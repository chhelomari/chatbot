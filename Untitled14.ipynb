{
  "nbformat": 4,
  "nbformat_minor": 0,
  "metadata": {
    "colab": {
      "provenance": [],
      "authorship_tag": "ABX9TyMYocemv6qVlHls8R53Ua1y",
      "include_colab_link": true
    },
    "kernelspec": {
      "name": "python3",
      "display_name": "Python 3"
    },
    "language_info": {
      "name": "python"
    }
  },
  "cells": [
    {
      "cell_type": "markdown",
      "metadata": {
        "id": "view-in-github",
        "colab_type": "text"
      },
      "source": [
        "<a href=\"https://colab.research.google.com/github/chhelomari/chatbot/blob/main/Untitled14.ipynb\" target=\"_parent\"><img src=\"https://colab.research.google.com/assets/colab-badge.svg\" alt=\"Open In Colab\"/></a>"
      ]
    },
    {
      "cell_type": "code",
      "source": [
        "# I divided my work into parts\n",
        "# 1 -loaded the California dataset\n",
        "# 2 -normalized the data\n",
        "# 3 -splited the data into training and testing sets\n",
        "# 4 -trained a linear regression model to predict the house pricing\n",
        "# 5 -evaluated the model using metrics like mean square error , ...\n",
        "# 6 -used longitude and latitude to create new features to help us predict\n",
        "# 7 -used one-hot encoding for categorical features\n",
        "# 8 -R^2 score\n",
        "# 9 -genetic algorithm for model optimization\n",
        "# 10 -model evaluation"
      ],
      "metadata": {
        "id": "6cEIZ5pmi_Bp"
      },
      "execution_count": null,
      "outputs": []
    },
    {
      "cell_type": "code",
      "execution_count": null,
      "metadata": {
        "colab": {
          "base_uri": "https://localhost:8080/"
        },
        "id": "rpfBmBUjf5Wg",
        "outputId": "17886f76-8968-4b4a-e267-556e669b09c5"
      },
      "outputs": [
        {
          "output_type": "stream",
          "name": "stdout",
          "text": [
            "Preview of the dataset:\n",
            "   MedInc  HouseAge  AveRooms  AveBedrms  Population  AveOccup  Latitude  \\\n",
            "0  8.3252      41.0  6.984127   1.023810       322.0  2.555556     37.88   \n",
            "1  8.3014      21.0  6.238137   0.971880      2401.0  2.109842     37.86   \n",
            "2  7.2574      52.0  8.288136   1.073446       496.0  2.802260     37.85   \n",
            "3  5.6431      52.0  5.817352   1.073059       558.0  2.547945     37.85   \n",
            "4  3.8462      52.0  6.281853   1.081081       565.0  2.181467     37.85   \n",
            "\n",
            "   Longitude  MedHouseVal  \n",
            "0    -122.23        4.526  \n",
            "1    -122.22        3.585  \n",
            "2    -122.24        3.521  \n",
            "3    -122.25        3.413  \n",
            "4    -122.25        3.422  \n",
            "\n",
            "Basic information:\n",
            "<class 'pandas.core.frame.DataFrame'>\n",
            "RangeIndex: 20640 entries, 0 to 20639\n",
            "Data columns (total 9 columns):\n",
            " #   Column       Non-Null Count  Dtype  \n",
            "---  ------       --------------  -----  \n",
            " 0   MedInc       20640 non-null  float64\n",
            " 1   HouseAge     20640 non-null  float64\n",
            " 2   AveRooms     20640 non-null  float64\n",
            " 3   AveBedrms    20640 non-null  float64\n",
            " 4   Population   20640 non-null  float64\n",
            " 5   AveOccup     20640 non-null  float64\n",
            " 6   Latitude     20640 non-null  float64\n",
            " 7   Longitude    20640 non-null  float64\n",
            " 8   MedHouseVal  20640 non-null  float64\n",
            "dtypes: float64(9)\n",
            "memory usage: 1.4 MB\n",
            "None\n"
          ]
        }
      ],
      "source": [
        "from sklearn.datasets import fetch_california_housing\n",
        "import pandas as pd\n",
        "\n",
        "data = fetch_california_housing(as_frame=True)\n",
        "df = data.frame\n",
        "\n",
        "print(\"Preview of the dataset:\")\n",
        "print(df.head())\n",
        "\n",
        "print(\"\\nBasic information:\")\n",
        "print(df.info())\n"
      ]
    },
    {
      "cell_type": "code",
      "source": [
        "X = df.drop(columns=[\"MedHouseVal\"])\n",
        "y = df[\"MedHouseVal\"]\n",
        "\n",
        "X = (X - X.min()) / (X.max() - X.min())\n",
        "\n",
        "from sklearn.model_selection import train_test_split\n",
        "X_train, X_test, y_train, y_test = train_test_split(X, y, test_size=0.2,\n",
        "                                                    random_state=42)\n",
        "\n",
        "print(\"\\nData is split into training and testing sets:\")\n",
        "print(f\"Training data size: {len(X_train)}\")\n",
        "print(f\"Testing data size: {len(X_test)}\")\n"
      ],
      "metadata": {
        "colab": {
          "base_uri": "https://localhost:8080/"
        },
        "id": "5Tnro6KjhCqE",
        "outputId": "b25b1831-ec5e-4546-e07a-7f22a53687bb"
      },
      "execution_count": null,
      "outputs": [
        {
          "output_type": "stream",
          "name": "stdout",
          "text": [
            "\n",
            "Data is split into training and testing sets:\n",
            "Training data size: 16512\n",
            "Testing data size: 4128\n"
          ]
        }
      ]
    },
    {
      "cell_type": "code",
      "source": [
        "from sklearn.linear_model import LinearRegression\n",
        "model = LinearRegression()\n",
        "\n",
        "#trainning the model\n",
        "model.fit(X_train, y_train)\n",
        "\n",
        "print(\"\\nModel training complete!\")\n"
      ],
      "metadata": {
        "colab": {
          "base_uri": "https://localhost:8080/"
        },
        "id": "PtBA0mYkh84t",
        "outputId": "e30b344b-49a0-4810-ccf1-cb4a9f1eb73e"
      },
      "execution_count": null,
      "outputs": [
        {
          "output_type": "stream",
          "name": "stdout",
          "text": [
            "\n",
            "Model training complete!\n"
          ]
        }
      ]
    },
    {
      "cell_type": "code",
      "source": [
        "from sklearn.metrics import mean_squared_error, mean_absolute_error, r2_score\n",
        "import numpy as np\n",
        "\n",
        "y_pred = model.predict(X_test)\n",
        "\n",
        "mse = mean_squared_error(y_test, y_pred)\n",
        "mae = mean_absolute_error(y_test, y_pred)\n",
        "rmse = np.sqrt(mse)\n",
        "mape = np.mean(np.abs((y_test - y_pred) / y_test)) * 100\n",
        "r2 = r2_score(y_test, y_pred)\n",
        "\n",
        "print(\"\\nEvaluation metrics:\")\n",
        "print(f\"Mean squared error: {mse}\")\n",
        "print(f\"Mean absolute error: {mae}\")\n",
        "print(f\"Root mean squared error: {rmse}\")\n",
        "print(f\"Mean absolute percentage error: {mape}%\")\n",
        "print(f\"R² score: {r2}\")\n"
      ],
      "metadata": {
        "colab": {
          "base_uri": "https://localhost:8080/"
        },
        "id": "mIdi13tfiU8d",
        "outputId": "4ed09ec9-5415-4eaf-ac9d-ac68e72619eb"
      },
      "execution_count": null,
      "outputs": [
        {
          "output_type": "stream",
          "name": "stdout",
          "text": [
            "\n",
            "Evaluation metrics:\n",
            "Mean squared error: 0.555891598695244\n",
            "Mean absolute error: 0.533200130495656\n",
            "Root mean squared error: 0.7455813830127761\n",
            "Mean absolute percentage error: 31.952187413615075%\n",
            "R² score: 0.5757877060324511\n"
          ]
        }
      ]
    },
    {
      "cell_type": "code",
      "source": [
        "X[\"Longitude\"] = df[\"Longitude\"]\n",
        "X[\"Latitude\"] = df[\"Latitude\"]\n",
        "\n",
        "print(X.head())\n"
      ],
      "metadata": {
        "colab": {
          "base_uri": "https://localhost:8080/"
        },
        "id": "hzLys70XkbNM",
        "outputId": "826b9778-d8d1-4717-d5cb-bdb2d12398f7"
      },
      "execution_count": null,
      "outputs": [
        {
          "output_type": "stream",
          "name": "stdout",
          "text": [
            "     MedInc  HouseAge  AveRooms  AveBedrms  Population  AveOccup  Latitude  \\\n",
            "0  0.539668  0.784314  0.043512   0.020469    0.008941  0.001499     37.88   \n",
            "1  0.538027  0.392157  0.038224   0.018929    0.067210  0.001141     37.86   \n",
            "2  0.466028  1.000000  0.052756   0.021940    0.013818  0.001698     37.85   \n",
            "3  0.354699  1.000000  0.035241   0.021929    0.015555  0.001493     37.85   \n",
            "4  0.230776  1.000000  0.038534   0.022166    0.015752  0.001198     37.85   \n",
            "\n",
            "   Longitude  \n",
            "0    -122.23  \n",
            "1    -122.22  \n",
            "2    -122.24  \n",
            "3    -122.25  \n",
            "4    -122.25  \n"
          ]
        }
      ]
    },
    {
      "cell_type": "code",
      "source": [
        "#here I was using this code below\n",
        "#\"X = pd.get_dummies(X, columns=[\"ocean_proximity\"])\n",
        "#print(X.head())\" but it was giving me error so I tried it with checking first then applying one hot encoding\n",
        "\n",
        "print(df.columns)\n",
        "#as ocean proximity is a categorical feature\n",
        "if 'ocean_proximity' in df.columns:\n",
        "    X = pd.get_dummies(X, columns=[\"ocean_proximity\"])\n",
        "\n",
        "print(X.head())\n"
      ],
      "metadata": {
        "colab": {
          "base_uri": "https://localhost:8080/"
        },
        "id": "eo-adt7Fk-Hu",
        "outputId": "5f0d5d54-aee0-4980-e440-104e5b9d10bf"
      },
      "execution_count": null,
      "outputs": [
        {
          "output_type": "stream",
          "name": "stdout",
          "text": [
            "Index(['MedInc', 'HouseAge', 'AveRooms', 'AveBedrms', 'Population', 'AveOccup',\n",
            "       'Latitude', 'Longitude', 'MedHouseVal'],\n",
            "      dtype='object')\n",
            "     MedInc  HouseAge  AveRooms  AveBedrms  Population  AveOccup  Latitude  \\\n",
            "0  0.539668  0.784314  0.043512   0.020469    0.008941  0.001499     37.88   \n",
            "1  0.538027  0.392157  0.038224   0.018929    0.067210  0.001141     37.86   \n",
            "2  0.466028  1.000000  0.052756   0.021940    0.013818  0.001698     37.85   \n",
            "3  0.354699  1.000000  0.035241   0.021929    0.015555  0.001493     37.85   \n",
            "4  0.230776  1.000000  0.038534   0.022166    0.015752  0.001198     37.85   \n",
            "\n",
            "   Longitude  \n",
            "0    -122.23  \n",
            "1    -122.22  \n",
            "2    -122.24  \n",
            "3    -122.25  \n",
            "4    -122.25  \n"
          ]
        }
      ]
    },
    {
      "cell_type": "code",
      "source": [
        "#R^2 score , if R^2 is close to 1 then the model is good,if its close to 0 or less than 0 then its not good ,we need to improve feature engineering\n",
        "r2 = r2_score(y_test, y_pred)\n",
        "\n",
        "print(f\"R² Score: {r2}\")\n"
      ],
      "metadata": {
        "colab": {
          "base_uri": "https://localhost:8080/"
        },
        "id": "nH4ifJxznKrz",
        "outputId": "3db4c12a-7c19-4162-c6fd-fe147c74df59"
      },
      "execution_count": null,
      "outputs": [
        {
          "output_type": "stream",
          "name": "stdout",
          "text": [
            "R² Score: 0.5757877060324511\n"
          ]
        }
      ]
    },
    {
      "cell_type": "code",
      "source": [
        "import random\n",
        "from sklearn.linear_model import LinearRegression\n",
        "from sklearn.metrics import r2_score\n",
        "from sklearn.model_selection import train_test_split"
      ],
      "metadata": {
        "id": "Ps1RAPxk08Vg"
      },
      "execution_count": null,
      "outputs": []
    },
    {
      "cell_type": "code",
      "source": [
        "def fitness(individual, X_train, y_train, X_test, y_test):\n",
        "    model = LinearRegression()\n",
        "    model.fit(X_train, y_train)\n",
        "    y_pred = model.predict(X_test)\n",
        "    r2 = r2_score(y_test, y_pred)\n",
        "    return r2"
      ],
      "metadata": {
        "id": "TqyTE_KT0944"
      },
      "execution_count": null,
      "outputs": []
    },
    {
      "cell_type": "code",
      "source": [
        "def init_population(pop_size):\n",
        "    return [{'iterations': random.randint(50, 200), 'learning_rate': random.uniform(0.01, 0.1)} for _ in range(pop_size)]"
      ],
      "metadata": {
        "id": "fRbd9ue51CrG"
      },
      "execution_count": null,
      "outputs": []
    },
    {
      "cell_type": "code",
      "source": [
        "def select(population, X_train, y_train, X_test, y_test):\n",
        "    population.sort(key=lambda x: fitness(x, X_train, y_train, X_test, y_test), reverse=True)\n",
        "    return population[:len(population)//2]"
      ],
      "metadata": {
        "id": "Yzx7qBu11Kho"
      },
      "execution_count": null,
      "outputs": []
    },
    {
      "cell_type": "code",
      "source": [
        "def crossover(parent1, parent2):\n",
        "    return {\n",
        "        'iterations': random.choice([parent1['iterations'], parent2['iterations']]),\n",
        "        'learning_rate': random.choice([parent1['learning_rate'], parent2['learning_rate']])\n",
        "    }"
      ],
      "metadata": {
        "id": "BKMpp3Up1PRj"
      },
      "execution_count": null,
      "outputs": []
    },
    {
      "cell_type": "code",
      "source": [
        "def mutate(individual, mutation_rate=0.2):\n",
        "    if random.random() < mutation_rate:\n",
        "        individual['iterations'] = random.randint(50, 200)\n",
        "        individual['learning_rate'] = random.uniform(0.01, 0.1)\n",
        "    return individual"
      ],
      "metadata": {
        "id": "RqVtBGPf1UOn"
      },
      "execution_count": null,
      "outputs": []
    },
    {
      "cell_type": "code",
      "source": [
        "def genetic_algorithm(X_train, y_train, X_test, y_test, generations=10, pop_size=10, mutation_rate=0.2):\n",
        "    population = init_population(pop_size)\n",
        "\n",
        "    for generation in range(generations):\n",
        "        selected = select(population, X_train, y_train, X_test, y_test)\n",
        "\n",
        "  #I had an (IndexError: list index out of range) with the line (best = selected[0]),then I changed it to check if `selected` is not empty before accessing it\n",
        "        if len(selected) % 2 != 0:\n",
        "            selected.pop()\n",
        "\n",
        "        next_generation = []\n",
        "\n",
        "        for i in range(0, len(selected), 2):\n",
        "            parent1, parent2 = selected[i], selected[i + 1]\n",
        "            child = crossover(parent1, parent2)  #crossover\n",
        "            mutated_child = mutate(child, mutation_rate) #mutation\n",
        "            next_generation.append(mutated_child)\n",
        "\n",
        "        population = next_generation\n",
        "\n",
        "        if selected:\n",
        "            best = selected[0]\n",
        "            print(f\"Generation {generation + 1}: Best R²: {fitness(best, X_train, y_train, X_test, y_test)}\")\n",
        "        else:\n",
        "            print(f\"Generation {generation + 1}: No valid individuals selected!\")\n",
        "\n",
        "    return selected[0] if selected else None\n"
      ],
      "metadata": {
        "id": "FqAdgXHL1cPj"
      },
      "execution_count": null,
      "outputs": []
    },
    {
      "cell_type": "code",
      "source": [
        "X_train, X_test, y_train, y_test = train_test_split(X, y, test_size=0.2, random_state=42)\n",
        "\n",
        "best_params = genetic_algorithm(X_train, y_train, X_test, y_test)\n",
        "if best_params:\n",
        "    print(f\"Best parameters: {best_params}\")\n",
        "else:\n",
        "    print(\"No valid parameters found.\")"
      ],
      "metadata": {
        "colab": {
          "base_uri": "https://localhost:8080/"
        },
        "id": "07DJv4EF1p8p",
        "outputId": "3c12e5b3-ad29-4428-e7c8-0043ecbaf4a5"
      },
      "execution_count": null,
      "outputs": [
        {
          "output_type": "stream",
          "name": "stdout",
          "text": [
            "Generation 1: Best R²: 0.575787706032451\n",
            "Generation 2: No valid individuals selected!\n",
            "Generation 3: No valid individuals selected!\n",
            "Generation 4: No valid individuals selected!\n",
            "Generation 5: No valid individuals selected!\n",
            "Generation 6: No valid individuals selected!\n",
            "Generation 7: No valid individuals selected!\n",
            "Generation 8: No valid individuals selected!\n",
            "Generation 9: No valid individuals selected!\n",
            "Generation 10: No valid individuals selected!\n",
            "No valid parameters found.\n"
          ]
        }
      ]
    },
    {
      "cell_type": "code",
      "source": [
        "if best_params is not None:\n",
        "    best_model = LinearRegression(max_iter=best_params['iterations'])\n",
        "    best_model.fit(X_train, y_train)\n",
        "\n",
        "    y_pred = best_model.predict(X_test)\n",
        "    r2 = r2_score(y_test, y_pred)\n",
        "    print(f\"Final R² score on the test set: {r2}\")\n",
        "else:\n",
        "    print(\"Error: No valid parameters returned from the genetic algorithm\")\n"
      ],
      "metadata": {
        "colab": {
          "base_uri": "https://localhost:8080/"
        },
        "id": "Lub4PDwU4b6o",
        "outputId": "30e598f3-ad0a-42ca-8ddc-630b1046a295"
      },
      "execution_count": null,
      "outputs": [
        {
          "output_type": "stream",
          "name": "stdout",
          "text": [
            "Error: No valid parameters returned from the genetic algorithm\n"
          ]
        }
      ]
    }
  ]
}